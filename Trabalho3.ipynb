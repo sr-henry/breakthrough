{
  "nbformat": 4,
  "nbformat_minor": 0,
  "metadata": {
    "colab": {
      "name": "Trabalho.ipynb",
      "provenance": [],
      "collapsed_sections": []
    },
    "kernelspec": {
      "name": "python3",
      "display_name": "Python 3"
    }
  },
  "cells": [
    {
      "cell_type": "code",
      "metadata": {
        "id": "3V0G2abQFSfS",
        "colab_type": "code",
        "colab": {}
      },
      "source": [
        "%matplotlib inline\n",
        "import pandas as pd\n",
        "import numpy as np\n",
        "import matplotlib.pyplot as plt\n",
        "import seaborn as sns "
      ],
      "execution_count": 0,
      "outputs": []
    },
    {
      "cell_type": "code",
      "metadata": {
        "id": "oIVbsSoz3vXz",
        "colab_type": "code",
        "colab": {}
      },
      "source": [
        "dfa_columns = [\"game_id\", \"move_id\", \"move\", \"time\", \"white_positions\", \"black_positions\"]\n",
        "dfb_columns = [\"game_id\", \"jogador\"]\n",
        "dfc_columns = [\"game_id\", \"board_id\", \"player1\", \"player2\"]\n",
        "dfd_columns = [\"board_id\", \"r\", \"c\", \"white_positions\", \"black_positions\"]"
      ],
      "execution_count": 0,
      "outputs": []
    },
    {
      "cell_type": "code",
      "metadata": {
        "id": "sW30R8Qba3k_",
        "colab_type": "code",
        "colab": {}
      },
      "source": [
        "dataframe_a = pd.read_csv(\"http://www.ic.unicamp.br/~udias/si202/df_a.csv\", header = None, skipinitialspace = True, quotechar = '\"', names = dfa_columns)\n",
        "dataframe_b = pd.read_csv(\"http://www.ic.unicamp.br/~udias/si202/df_b.csv\", header = None, skipinitialspace = True, quotechar = '\"', names = dfb_columns)\n",
        "dataframe_c = pd.read_csv(\"http://www.ic.unicamp.br/~udias/si202/df_c.csv\", header = None, skipinitialspace = True, quotechar = '\"', names = dfc_columns)\n",
        "dataframe_d = pd.read_csv(\"http://www.ic.unicamp.br/~udias/si202/df_d.csv\", header = None, skipinitialspace = True, quotechar = '\"', names = dfd_columns)"
      ],
      "execution_count": 0,
      "outputs": []
    },
    {
      "cell_type": "code",
      "metadata": {
        "id": "Wiq1a3yNn5-5",
        "colab_type": "code",
        "outputId": "15092495-c120-4784-83d3-973277198730",
        "colab": {
          "base_uri": "https://localhost:8080/",
          "height": 204
        }
      },
      "source": [
        "dataframe_a.head()"
      ],
      "execution_count": 0,
      "outputs": [
        {
          "output_type": "execute_result",
          "data": {
            "text/html": [
              "<div>\n",
              "<style scoped>\n",
              "    .dataframe tbody tr th:only-of-type {\n",
              "        vertical-align: middle;\n",
              "    }\n",
              "\n",
              "    .dataframe tbody tr th {\n",
              "        vertical-align: top;\n",
              "    }\n",
              "\n",
              "    .dataframe thead th {\n",
              "        text-align: right;\n",
              "    }\n",
              "</style>\n",
              "<table border=\"1\" class=\"dataframe\">\n",
              "  <thead>\n",
              "    <tr style=\"text-align: right;\">\n",
              "      <th></th>\n",
              "      <th>game_id</th>\n",
              "      <th>move_id</th>\n",
              "      <th>move</th>\n",
              "      <th>time</th>\n",
              "      <th>white_positions</th>\n",
              "      <th>black_positions</th>\n",
              "    </tr>\n",
              "  </thead>\n",
              "  <tbody>\n",
              "    <tr>\n",
              "      <th>0</th>\n",
              "      <td>0</td>\n",
              "      <td>0</td>\n",
              "      <td>((2, 5), (3, 4))</td>\n",
              "      <td>0.072</td>\n",
              "      <td>[(1, 5), (3, 3), (3, 1), (2, 1), (3, 2), (2, 2...</td>\n",
              "      <td>[(5, 6), (3, 1), (5, 2), (6, 2), (5, 3), (3, 2...</td>\n",
              "    </tr>\n",
              "    <tr>\n",
              "      <th>1</th>\n",
              "      <td>0</td>\n",
              "      <td>1</td>\n",
              "      <td>((4, 6), (5, 5))</td>\n",
              "      <td>0.033</td>\n",
              "      <td>[(2, 1), (2, 5), (1, 5), (2, 4), (4, 5), (3, 6...</td>\n",
              "      <td>[(6, 2), (4, 4), (4, 6), (5, 6), (4, 5), (6, 3...</td>\n",
              "    </tr>\n",
              "    <tr>\n",
              "      <th>2</th>\n",
              "      <td>0</td>\n",
              "      <td>2</td>\n",
              "      <td>NaN</td>\n",
              "      <td>0.127</td>\n",
              "      <td>[(1, 5), (3, 3), (3, 1), (2, 1), (3, 2), (1, 4...</td>\n",
              "      <td>[(5, 6), (5, 2), (6, 2), (5, 3), (3, 2), (4, 1...</td>\n",
              "    </tr>\n",
              "    <tr>\n",
              "      <th>3</th>\n",
              "      <td>1</td>\n",
              "      <td>0</td>\n",
              "      <td>((2, 5), (3, 4))</td>\n",
              "      <td>0.072</td>\n",
              "      <td>[(1, 5), (3, 3), (3, 1), (2, 1), (3, 2), (2, 2...</td>\n",
              "      <td>[(5, 6), (3, 1), (5, 2), (6, 2), (5, 3), (3, 2...</td>\n",
              "    </tr>\n",
              "    <tr>\n",
              "      <th>4</th>\n",
              "      <td>1</td>\n",
              "      <td>1</td>\n",
              "      <td>((4, 5), (5, 6))</td>\n",
              "      <td>0.034</td>\n",
              "      <td>[(2, 1), (4, 6), (2, 5), (1, 5), (2, 4), (3, 6...</td>\n",
              "      <td>[(6, 2), (4, 4), (4, 6), (4, 5), (5, 5), (6, 3...</td>\n",
              "    </tr>\n",
              "  </tbody>\n",
              "</table>\n",
              "</div>"
            ],
            "text/plain": [
              "   game_id  ...                                    black_positions\n",
              "0        0  ...  [(5, 6), (3, 1), (5, 2), (6, 2), (5, 3), (3, 2...\n",
              "1        0  ...  [(6, 2), (4, 4), (4, 6), (5, 6), (4, 5), (6, 3...\n",
              "2        0  ...  [(5, 6), (5, 2), (6, 2), (5, 3), (3, 2), (4, 1...\n",
              "3        1  ...  [(5, 6), (3, 1), (5, 2), (6, 2), (5, 3), (3, 2...\n",
              "4        1  ...  [(6, 2), (4, 4), (4, 6), (4, 5), (5, 5), (6, 3...\n",
              "\n",
              "[5 rows x 6 columns]"
            ]
          },
          "metadata": {
            "tags": []
          },
          "execution_count": 5
        }
      ]
    },
    {
      "cell_type": "code",
      "metadata": {
        "id": "hulhUCoSkMuj",
        "colab_type": "code",
        "outputId": "4803b070-bfb3-4aed-bd29-87502e46dbab",
        "colab": {
          "base_uri": "https://localhost:8080/",
          "height": 204
        }
      },
      "source": [
        "dataframe_b.head()"
      ],
      "execution_count": 0,
      "outputs": [
        {
          "output_type": "execute_result",
          "data": {
            "text/html": [
              "<div>\n",
              "<style scoped>\n",
              "    .dataframe tbody tr th:only-of-type {\n",
              "        vertical-align: middle;\n",
              "    }\n",
              "\n",
              "    .dataframe tbody tr th {\n",
              "        vertical-align: top;\n",
              "    }\n",
              "\n",
              "    .dataframe thead th {\n",
              "        text-align: right;\n",
              "    }\n",
              "</style>\n",
              "<table border=\"1\" class=\"dataframe\">\n",
              "  <thead>\n",
              "    <tr style=\"text-align: right;\">\n",
              "      <th></th>\n",
              "      <th>game_id</th>\n",
              "      <th>jogador</th>\n",
              "    </tr>\n",
              "  </thead>\n",
              "  <tbody>\n",
              "    <tr>\n",
              "      <th>0</th>\n",
              "      <td>0</td>\n",
              "      <td>1</td>\n",
              "    </tr>\n",
              "    <tr>\n",
              "      <th>1</th>\n",
              "      <td>1</td>\n",
              "      <td>1</td>\n",
              "    </tr>\n",
              "    <tr>\n",
              "      <th>2</th>\n",
              "      <td>2</td>\n",
              "      <td>1</td>\n",
              "    </tr>\n",
              "    <tr>\n",
              "      <th>3</th>\n",
              "      <td>3</td>\n",
              "      <td>0</td>\n",
              "    </tr>\n",
              "    <tr>\n",
              "      <th>4</th>\n",
              "      <td>4</td>\n",
              "      <td>1</td>\n",
              "    </tr>\n",
              "  </tbody>\n",
              "</table>\n",
              "</div>"
            ],
            "text/plain": [
              "   game_id jogador\n",
              "0        0       1\n",
              "1        1       1\n",
              "2        2       1\n",
              "3        3       0\n",
              "4        4       1"
            ]
          },
          "metadata": {
            "tags": []
          },
          "execution_count": 6
        }
      ]
    },
    {
      "cell_type": "code",
      "metadata": {
        "id": "REL65frGljpq",
        "colab_type": "code",
        "outputId": "655788b3-179f-448f-b51f-a3c9a6fa6ed3",
        "colab": {
          "base_uri": "https://localhost:8080/",
          "height": 204
        }
      },
      "source": [
        "dataframe_c.head()"
      ],
      "execution_count": 0,
      "outputs": [
        {
          "output_type": "execute_result",
          "data": {
            "text/html": [
              "<div>\n",
              "<style scoped>\n",
              "    .dataframe tbody tr th:only-of-type {\n",
              "        vertical-align: middle;\n",
              "    }\n",
              "\n",
              "    .dataframe tbody tr th {\n",
              "        vertical-align: top;\n",
              "    }\n",
              "\n",
              "    .dataframe thead th {\n",
              "        text-align: right;\n",
              "    }\n",
              "</style>\n",
              "<table border=\"1\" class=\"dataframe\">\n",
              "  <thead>\n",
              "    <tr style=\"text-align: right;\">\n",
              "      <th></th>\n",
              "      <th>game_id</th>\n",
              "      <th>board_id</th>\n",
              "      <th>player1</th>\n",
              "      <th>player2</th>\n",
              "    </tr>\n",
              "  </thead>\n",
              "  <tbody>\n",
              "    <tr>\n",
              "      <th>0</th>\n",
              "      <td>0</td>\n",
              "      <td>0</td>\n",
              "      <td>a</td>\n",
              "      <td>b</td>\n",
              "    </tr>\n",
              "    <tr>\n",
              "      <th>1</th>\n",
              "      <td>1</td>\n",
              "      <td>0</td>\n",
              "      <td>a</td>\n",
              "      <td>c</td>\n",
              "    </tr>\n",
              "    <tr>\n",
              "      <th>2</th>\n",
              "      <td>2</td>\n",
              "      <td>0</td>\n",
              "      <td>b</td>\n",
              "      <td>a</td>\n",
              "    </tr>\n",
              "    <tr>\n",
              "      <th>3</th>\n",
              "      <td>3</td>\n",
              "      <td>0</td>\n",
              "      <td>b</td>\n",
              "      <td>c</td>\n",
              "    </tr>\n",
              "    <tr>\n",
              "      <th>4</th>\n",
              "      <td>4</td>\n",
              "      <td>0</td>\n",
              "      <td>c</td>\n",
              "      <td>a</td>\n",
              "    </tr>\n",
              "  </tbody>\n",
              "</table>\n",
              "</div>"
            ],
            "text/plain": [
              "   game_id  board_id player1 player2\n",
              "0        0         0       a       b\n",
              "1        1         0       a       c\n",
              "2        2         0       b       a\n",
              "3        3         0       b       c\n",
              "4        4         0       c       a"
            ]
          },
          "metadata": {
            "tags": []
          },
          "execution_count": 7
        }
      ]
    },
    {
      "cell_type": "code",
      "metadata": {
        "id": "04KIJUeBhSL2",
        "colab_type": "code",
        "outputId": "ed2d9b74-803d-4b4a-8f00-624395234275",
        "colab": {
          "base_uri": "https://localhost:8080/",
          "height": 204
        }
      },
      "source": [
        "dataframe_d.head()"
      ],
      "execution_count": 0,
      "outputs": [
        {
          "output_type": "execute_result",
          "data": {
            "text/html": [
              "<div>\n",
              "<style scoped>\n",
              "    .dataframe tbody tr th:only-of-type {\n",
              "        vertical-align: middle;\n",
              "    }\n",
              "\n",
              "    .dataframe tbody tr th {\n",
              "        vertical-align: top;\n",
              "    }\n",
              "\n",
              "    .dataframe thead th {\n",
              "        text-align: right;\n",
              "    }\n",
              "</style>\n",
              "<table border=\"1\" class=\"dataframe\">\n",
              "  <thead>\n",
              "    <tr style=\"text-align: right;\">\n",
              "      <th></th>\n",
              "      <th>board_id</th>\n",
              "      <th>r</th>\n",
              "      <th>c</th>\n",
              "      <th>white_positions</th>\n",
              "      <th>black_positions</th>\n",
              "    </tr>\n",
              "  </thead>\n",
              "  <tbody>\n",
              "    <tr>\n",
              "      <th>0</th>\n",
              "      <td>0</td>\n",
              "      <td>6</td>\n",
              "      <td>6</td>\n",
              "      <td>[(1, 5), (3, 3), (3, 1), (2, 1), (3, 2), (2, 2...</td>\n",
              "      <td>[(5, 6), (3, 1), (5, 2), (3, 4), (6, 2), (5, 3...</td>\n",
              "    </tr>\n",
              "    <tr>\n",
              "      <th>1</th>\n",
              "      <td>1</td>\n",
              "      <td>6</td>\n",
              "      <td>6</td>\n",
              "      <td>[(3, 3), (1, 5), (3, 5), (1, 6), (2, 6), (3, 6...</td>\n",
              "      <td>[(6, 2), (5, 4), (4, 1), (3, 2), (4, 3), (3, 6...</td>\n",
              "    </tr>\n",
              "    <tr>\n",
              "      <th>2</th>\n",
              "      <td>2</td>\n",
              "      <td>6</td>\n",
              "      <td>6</td>\n",
              "      <td>[(1, 4), (1, 1), (2, 4), (3, 4), (2, 5), (1, 2...</td>\n",
              "      <td>[(5, 5), (4, 6), (4, 2), (6, 1), (3, 2), (5, 3...</td>\n",
              "    </tr>\n",
              "    <tr>\n",
              "      <th>3</th>\n",
              "      <td>3</td>\n",
              "      <td>6</td>\n",
              "      <td>6</td>\n",
              "      <td>[(2, 2), (3, 6), (2, 5), (2, 1), (2, 6), (3, 3...</td>\n",
              "      <td>[(4, 6), (6, 3), (4, 2), (6, 5), (3, 4), (5, 1...</td>\n",
              "    </tr>\n",
              "    <tr>\n",
              "      <th>4</th>\n",
              "      <td>4</td>\n",
              "      <td>6</td>\n",
              "      <td>6</td>\n",
              "      <td>[(2, 3), (1, 6), (3, 4), (3, 5), (1, 2), (2, 1...</td>\n",
              "      <td>[(6, 1), (6, 3), (5, 1), (5, 2), (3, 1), (3, 5...</td>\n",
              "    </tr>\n",
              "  </tbody>\n",
              "</table>\n",
              "</div>"
            ],
            "text/plain": [
              "   board_id  ...                                    black_positions\n",
              "0         0  ...  [(5, 6), (3, 1), (5, 2), (3, 4), (6, 2), (5, 3...\n",
              "1         1  ...  [(6, 2), (5, 4), (4, 1), (3, 2), (4, 3), (3, 6...\n",
              "2         2  ...  [(5, 5), (4, 6), (4, 2), (6, 1), (3, 2), (5, 3...\n",
              "3         3  ...  [(4, 6), (6, 3), (4, 2), (6, 5), (3, 4), (5, 1...\n",
              "4         4  ...  [(6, 1), (6, 3), (5, 1), (5, 2), (3, 1), (3, 5...\n",
              "\n",
              "[5 rows x 5 columns]"
            ]
          },
          "metadata": {
            "tags": []
          },
          "execution_count": 8
        }
      ]
    },
    {
      "cell_type": "markdown",
      "metadata": {
        "id": "5xItGd4Qzw1v",
        "colab_type": "text"
      },
      "source": [
        "* Criação da coluna **\"winner\"** para melhor vizualização entre partida e vencedor\n",
        "* Adição da coluna **\"jogador\"** do dataframe_b para usar de referência para cor do jogador vencedor (0:branca | 1:preta)"
      ]
    },
    {
      "cell_type": "code",
      "metadata": {
        "id": "atiCCLp5LH5O",
        "colab_type": "code",
        "colab": {}
      },
      "source": [
        "dataframe_c['winner'] = dataframe_b['jogador']\n",
        "\n",
        "mp1 = dataframe_c.winner.where(dataframe_c.winner != \"0\", dataframe_c.player1)\n",
        "mp2 = dataframe_c.winner.where(dataframe_c.winner != \"1\", dataframe_c.player2)\n",
        "\n",
        "winner_column = mp1.where(mp1 != \"1\", mp2)"
      ],
      "execution_count": 0,
      "outputs": []
    },
    {
      "cell_type": "code",
      "metadata": {
        "id": "U53guVDBeci6",
        "colab_type": "code",
        "outputId": "24d4a6df-1888-49b4-f4b5-d20fd50cacb8",
        "colab": {
          "base_uri": "https://localhost:8080/",
          "height": 204
        }
      },
      "source": [
        "df_matches = dataframe_c.drop(columns=\"winner\")\n",
        "\n",
        "df_matches[\"winner\"] = winner_column\n",
        "df_matches[\"winner_color_id\"] = dataframe_b[\"jogador\"]\n",
        "\n",
        "df_matches.head()"
      ],
      "execution_count": 0,
      "outputs": [
        {
          "output_type": "execute_result",
          "data": {
            "text/html": [
              "<div>\n",
              "<style scoped>\n",
              "    .dataframe tbody tr th:only-of-type {\n",
              "        vertical-align: middle;\n",
              "    }\n",
              "\n",
              "    .dataframe tbody tr th {\n",
              "        vertical-align: top;\n",
              "    }\n",
              "\n",
              "    .dataframe thead th {\n",
              "        text-align: right;\n",
              "    }\n",
              "</style>\n",
              "<table border=\"1\" class=\"dataframe\">\n",
              "  <thead>\n",
              "    <tr style=\"text-align: right;\">\n",
              "      <th></th>\n",
              "      <th>game_id</th>\n",
              "      <th>board_id</th>\n",
              "      <th>player1</th>\n",
              "      <th>player2</th>\n",
              "      <th>winner</th>\n",
              "      <th>winner_color_id</th>\n",
              "    </tr>\n",
              "  </thead>\n",
              "  <tbody>\n",
              "    <tr>\n",
              "      <th>0</th>\n",
              "      <td>0</td>\n",
              "      <td>0</td>\n",
              "      <td>a</td>\n",
              "      <td>b</td>\n",
              "      <td>b</td>\n",
              "      <td>1</td>\n",
              "    </tr>\n",
              "    <tr>\n",
              "      <th>1</th>\n",
              "      <td>1</td>\n",
              "      <td>0</td>\n",
              "      <td>a</td>\n",
              "      <td>c</td>\n",
              "      <td>c</td>\n",
              "      <td>1</td>\n",
              "    </tr>\n",
              "    <tr>\n",
              "      <th>2</th>\n",
              "      <td>2</td>\n",
              "      <td>0</td>\n",
              "      <td>b</td>\n",
              "      <td>a</td>\n",
              "      <td>a</td>\n",
              "      <td>1</td>\n",
              "    </tr>\n",
              "    <tr>\n",
              "      <th>3</th>\n",
              "      <td>3</td>\n",
              "      <td>0</td>\n",
              "      <td>b</td>\n",
              "      <td>c</td>\n",
              "      <td>b</td>\n",
              "      <td>0</td>\n",
              "    </tr>\n",
              "    <tr>\n",
              "      <th>4</th>\n",
              "      <td>4</td>\n",
              "      <td>0</td>\n",
              "      <td>c</td>\n",
              "      <td>a</td>\n",
              "      <td>a</td>\n",
              "      <td>1</td>\n",
              "    </tr>\n",
              "  </tbody>\n",
              "</table>\n",
              "</div>"
            ],
            "text/plain": [
              "   game_id  board_id player1 player2 winner winner_color_id\n",
              "0        0         0       a       b      b               1\n",
              "1        1         0       a       c      c               1\n",
              "2        2         0       b       a      a               1\n",
              "3        3         0       b       c      b               0\n",
              "4        4         0       c       a      a               1"
            ]
          },
          "metadata": {
            "tags": []
          },
          "execution_count": 10
        }
      ]
    },
    {
      "cell_type": "markdown",
      "metadata": {
        "id": "mDmTQ2fp2Xcs",
        "colab_type": "text"
      },
      "source": [
        "### Jogadores X Numero de Vitórias "
      ]
    },
    {
      "cell_type": "code",
      "metadata": {
        "id": "g5MwHcJtfa7V",
        "colab_type": "code",
        "outputId": "cba01f40-eef9-43fa-f3b1-0098cac0118b",
        "colab": {
          "base_uri": "https://localhost:8080/",
          "height": 279
        }
      },
      "source": [
        "df_matches.winner.value_counts(normalize=True).head(3).plot.bar()"
      ],
      "execution_count": 0,
      "outputs": [
        {
          "output_type": "execute_result",
          "data": {
            "text/plain": [
              "<matplotlib.axes._subplots.AxesSubplot at 0x7ff6221d5ba8>"
            ]
          },
          "metadata": {
            "tags": []
          },
          "execution_count": 11
        },
        {
          "output_type": "display_data",
          "data": {
            "image/png": "[encoded data removed]",
            "text/plain": [
              "<Figure size 432x288 with 1 Axes>"
            ]
          },
          "metadata": {
            "tags": []
          }
        }
      ]
    },
    {
      "cell_type": "markdown",
      "metadata": {
        "id": "Q6P_jEfc3eCW",
        "colab_type": "text"
      },
      "source": [
        "### Cor X Numero de Vitórias"
      ]
    },
    {
      "cell_type": "code",
      "metadata": {
        "id": "59swKcUfg-9U",
        "colab_type": "code",
        "outputId": "5f52b8a2-b366-46fe-b3c5-c94fb1d5b6f8",
        "colab": {
          "base_uri": "https://localhost:8080/",
          "height": 279
        }
      },
      "source": [
        "df_matches.winner_color_id.value_counts().head(2).plot.bar()"
      ],
      "execution_count": 0,
      "outputs": [
        {
          "output_type": "execute_result",
          "data": {
            "text/plain": [
              "<matplotlib.axes._subplots.AxesSubplot at 0x7ff620e6f5c0>"
            ]
          },
          "metadata": {
            "tags": []
          },
          "execution_count": 12
        },
        {
          "output_type": "display_data",
          "data": {
            "image/png": "[encoded data removed]",
            "text/plain": [
              "<Figure size 432x288 with 1 Axes>"
            ]
          },
          "metadata": {
            "tags": []
          }
        }
      ]
    },
    {
      "cell_type": "markdown",
      "metadata": {
        "id": "gx4dNvFK3p-Z",
        "colab_type": "text"
      },
      "source": [
        "### Análise\n",
        "Tendo em vista a diferença entre a taxa de vitórias das peças pretas em relação as brancas, podemos deduzir que o fator determinante para que isso ocorra esteja na **disposição das peças no tabulairo**, uma vez que *todos os jogadores jogam contra si*, tanto iniciando de brancas como de pretas, assim tendo 3 jogadores, existem 6 jogos por tabuleiro."
      ]
    },
    {
      "cell_type": "code",
      "metadata": {
        "id": "g7xiNgmHhAbY",
        "colab_type": "code",
        "colab": {}
      },
      "source": [
        "df_matches[\"winner_color_id\"] = pd.to_numeric(df_matches[\"winner_color_id\"], errors=\"coerce\")"
      ],
      "execution_count": 0,
      "outputs": []
    },
    {
      "cell_type": "markdown",
      "metadata": {
        "id": "bU5_mQdg7FdK",
        "colab_type": "text"
      },
      "source": [
        "Calcular a taxa de vitórias de branca e de preta para cada tabuleiro, no intuito de verificar se a hipótese acima possui algum fundamento"
      ]
    },
    {
      "cell_type": "code",
      "metadata": {
        "id": "mE6lTXrjaYqh",
        "colab_type": "code",
        "outputId": "52ba3eea-506c-4a47-c07d-3ba030db8539",
        "colab": {
          "base_uri": "https://localhost:8080/",
          "height": 235
        }
      },
      "source": [
        "board_win_rate = 6 - df_matches.groupby(['board_id']).winner_color_id.sum()\n",
        "\n",
        "df_board_win_rate = board_win_rate.to_frame(name=\"white_win_rate\")\n",
        "\n",
        "df_board_win_rate[\"black_win_rate\"] = 6 - board_win_rate\n",
        "\n",
        "df_board_win_rate.head()"
      ],
      "execution_count": 0,
      "outputs": [
        {
          "output_type": "execute_result",
          "data": {
            "text/html": [
              "<div>\n",
              "<style scoped>\n",
              "    .dataframe tbody tr th:only-of-type {\n",
              "        vertical-align: middle;\n",
              "    }\n",
              "\n",
              "    .dataframe tbody tr th {\n",
              "        vertical-align: top;\n",
              "    }\n",
              "\n",
              "    .dataframe thead th {\n",
              "        text-align: right;\n",
              "    }\n",
              "</style>\n",
              "<table border=\"1\" class=\"dataframe\">\n",
              "  <thead>\n",
              "    <tr style=\"text-align: right;\">\n",
              "      <th></th>\n",
              "      <th>white_win_rate</th>\n",
              "      <th>black_win_rate</th>\n",
              "    </tr>\n",
              "    <tr>\n",
              "      <th>board_id</th>\n",
              "      <th></th>\n",
              "      <th></th>\n",
              "    </tr>\n",
              "  </thead>\n",
              "  <tbody>\n",
              "    <tr>\n",
              "      <th>0</th>\n",
              "      <td>1.0</td>\n",
              "      <td>5.0</td>\n",
              "    </tr>\n",
              "    <tr>\n",
              "      <th>1</th>\n",
              "      <td>4.0</td>\n",
              "      <td>2.0</td>\n",
              "    </tr>\n",
              "    <tr>\n",
              "      <th>2</th>\n",
              "      <td>2.0</td>\n",
              "      <td>4.0</td>\n",
              "    </tr>\n",
              "    <tr>\n",
              "      <th>3</th>\n",
              "      <td>0.0</td>\n",
              "      <td>6.0</td>\n",
              "    </tr>\n",
              "    <tr>\n",
              "      <th>4</th>\n",
              "      <td>1.0</td>\n",
              "      <td>5.0</td>\n",
              "    </tr>\n",
              "  </tbody>\n",
              "</table>\n",
              "</div>"
            ],
            "text/plain": [
              "          white_win_rate  black_win_rate\n",
              "board_id                                \n",
              "0                    1.0             5.0\n",
              "1                    4.0             2.0\n",
              "2                    2.0             4.0\n",
              "3                    0.0             6.0\n",
              "4                    1.0             5.0"
            ]
          },
          "metadata": {
            "tags": []
          },
          "execution_count": 14
        }
      ]
    },
    {
      "cell_type": "markdown",
      "metadata": {
        "id": "QPMMqKNU8mvi",
        "colab_type": "text"
      },
      "source": [
        "### Tabuleiro X Taxa de vitória por cor  "
      ]
    },
    {
      "cell_type": "code",
      "metadata": {
        "id": "jqt2mpAZqkGd",
        "colab_type": "code",
        "outputId": "d7c70ba1-931a-4f40-e423-a606ed1c261f",
        "colab": {
          "base_uri": "https://localhost:8080/",
          "height": 334
        }
      },
      "source": [
        "# win rate per board\n",
        "print(\"Avarege of White Wins: %lf\"%df_board_win_rate.white_win_rate.mean())\n",
        "print(\"Avarege of Black Wins: %lf\"%df_board_win_rate.black_win_rate.mean())\n",
        "\n",
        "df_board_win_rate.head(15).plot.bar()"
      ],
      "execution_count": 0,
      "outputs": [
        {
          "output_type": "stream",
          "text": [
            "Avarege of White Wins: 2.381024\n",
            "Avarege of Black Wins: 3.618976\n"
          ],
          "name": "stdout"
        },
        {
          "output_type": "execute_result",
          "data": {
            "text/plain": [
              "<matplotlib.axes._subplots.AxesSubplot at 0x7ff6209bc438>"
            ]
          },
          "metadata": {
            "tags": []
          },
          "execution_count": 15
        },
        {
          "output_type": "display_data",
          "data": {
            "image/png": "[encoded data removed]",
            "text/plain": [
              "<Figure size 432x288 with 1 Axes>"
            ]
          },
          "metadata": {
            "tags": []
          }
        }
      ]
    },
    {
      "cell_type": "markdown",
      "metadata": {
        "id": "9DHbd5xl-0I6",
        "colab_type": "text"
      },
      "source": [
        "* Analisando o gráfico acima, podemos perceber que os tabuleiros como 3 e 12, reforçam a hipótese acima, uma vez que independente do jogador, o jogador de pretas nunca perdia\n",
        "* Com isso podemos calcular um **score** para cada tabuleiro normalizando seu **win_rate**"
      ]
    },
    {
      "cell_type": "code",
      "metadata": {
        "id": "unJZCyds_8XS",
        "colab_type": "code",
        "outputId": "a694a83c-3435-4c9d-a34c-10ac35624c67",
        "colab": {
          "base_uri": "https://localhost:8080/",
          "height": 235
        }
      },
      "source": [
        "board_score_column = board_win_rate/6 + (board_win_rate-6)/6\n",
        "df_data = board_score_column.to_frame(name=\"score\")\n",
        "\n",
        "df_data[\"r\"] = dataframe_d.r\n",
        "df_data[\"c\"] = dataframe_d.c\n",
        "\n",
        "df_data[\"white_positions\"] = dataframe_d.white_positions\n",
        "df_data[\"black_positions\"] = dataframe_d.black_positions\n",
        "\n",
        "df_data.head() #train a evaluator"
      ],
      "execution_count": 0,
      "outputs": [
        {
          "output_type": "execute_result",
          "data": {
            "text/html": [
              "<div>\n",
              "<style scoped>\n",
              "    .dataframe tbody tr th:only-of-type {\n",
              "        vertical-align: middle;\n",
              "    }\n",
              "\n",
              "    .dataframe tbody tr th {\n",
              "        vertical-align: top;\n",
              "    }\n",
              "\n",
              "    .dataframe thead th {\n",
              "        text-align: right;\n",
              "    }\n",
              "</style>\n",
              "<table border=\"1\" class=\"dataframe\">\n",
              "  <thead>\n",
              "    <tr style=\"text-align: right;\">\n",
              "      <th></th>\n",
              "      <th>score</th>\n",
              "      <th>r</th>\n",
              "      <th>c</th>\n",
              "      <th>white_positions</th>\n",
              "      <th>black_positions</th>\n",
              "    </tr>\n",
              "    <tr>\n",
              "      <th>board_id</th>\n",
              "      <th></th>\n",
              "      <th></th>\n",
              "      <th></th>\n",
              "      <th></th>\n",
              "      <th></th>\n",
              "    </tr>\n",
              "  </thead>\n",
              "  <tbody>\n",
              "    <tr>\n",
              "      <th>0</th>\n",
              "      <td>-0.666667</td>\n",
              "      <td>6</td>\n",
              "      <td>6</td>\n",
              "      <td>[(1, 5), (3, 3), (3, 1), (2, 1), (3, 2), (2, 2...</td>\n",
              "      <td>[(5, 6), (3, 1), (5, 2), (3, 4), (6, 2), (5, 3...</td>\n",
              "    </tr>\n",
              "    <tr>\n",
              "      <th>1</th>\n",
              "      <td>0.333333</td>\n",
              "      <td>6</td>\n",
              "      <td>6</td>\n",
              "      <td>[(3, 3), (1, 5), (3, 5), (1, 6), (2, 6), (3, 6...</td>\n",
              "      <td>[(6, 2), (5, 4), (4, 1), (3, 2), (4, 3), (3, 6...</td>\n",
              "    </tr>\n",
              "    <tr>\n",
              "      <th>2</th>\n",
              "      <td>-0.333333</td>\n",
              "      <td>6</td>\n",
              "      <td>6</td>\n",
              "      <td>[(1, 4), (1, 1), (2, 4), (3, 4), (2, 5), (1, 2...</td>\n",
              "      <td>[(5, 5), (4, 6), (4, 2), (6, 1), (3, 2), (5, 3...</td>\n",
              "    </tr>\n",
              "    <tr>\n",
              "      <th>3</th>\n",
              "      <td>-1.000000</td>\n",
              "      <td>6</td>\n",
              "      <td>6</td>\n",
              "      <td>[(2, 2), (3, 6), (2, 5), (2, 1), (2, 6), (3, 3...</td>\n",
              "      <td>[(4, 6), (6, 3), (4, 2), (6, 5), (3, 4), (5, 1...</td>\n",
              "    </tr>\n",
              "    <tr>\n",
              "      <th>4</th>\n",
              "      <td>-0.666667</td>\n",
              "      <td>6</td>\n",
              "      <td>6</td>\n",
              "      <td>[(2, 3), (1, 6), (3, 4), (3, 5), (1, 2), (2, 1...</td>\n",
              "      <td>[(6, 1), (6, 3), (5, 1), (5, 2), (3, 1), (3, 5...</td>\n",
              "    </tr>\n",
              "  </tbody>\n",
              "</table>\n",
              "</div>"
            ],
            "text/plain": [
              "             score  ...                                    black_positions\n",
              "board_id            ...                                                   \n",
              "0        -0.666667  ...  [(5, 6), (3, 1), (5, 2), (3, 4), (6, 2), (5, 3...\n",
              "1         0.333333  ...  [(6, 2), (5, 4), (4, 1), (3, 2), (4, 3), (3, 6...\n",
              "2        -0.333333  ...  [(5, 5), (4, 6), (4, 2), (6, 1), (3, 2), (5, 3...\n",
              "3        -1.000000  ...  [(4, 6), (6, 3), (4, 2), (6, 5), (3, 4), (5, 1...\n",
              "4        -0.666667  ...  [(6, 1), (6, 3), (5, 1), (5, 2), (3, 1), (3, 5...\n",
              "\n",
              "[5 rows x 5 columns]"
            ]
          },
          "metadata": {
            "tags": []
          },
          "execution_count": 16
        }
      ]
    },
    {
      "cell_type": "markdown",
      "metadata": {
        "id": "6eXl0b_dCH57",
        "colab_type": "text"
      },
      "source": [
        "### Partida X Tempo da Partida"
      ]
    },
    {
      "cell_type": "code",
      "metadata": {
        "id": "ZZkB4lWkvXhC",
        "colab_type": "code",
        "outputId": "80934a83-d9c8-41cb-9511-496bfa4e04c2",
        "colab": {
          "base_uri": "https://localhost:8080/",
          "height": 300
        }
      },
      "source": [
        "time_per_match = dataframe_a.groupby([\"game_id\"]).time.sum()\n",
        "\n",
        "time_per_match[32:52].plot.bar(color=\"red\")"
      ],
      "execution_count": 0,
      "outputs": [
        {
          "output_type": "execute_result",
          "data": {
            "text/plain": [
              "<matplotlib.axes._subplots.AxesSubplot at 0x7ff620077898>"
            ]
          },
          "metadata": {
            "tags": []
          },
          "execution_count": 28
        },
        {
          "output_type": "display_data",
          "data": {
            "image/png": "[encoded data removed]",
            "text/plain": [
              "<Figure size 432x288 with 1 Axes>"
            ]
          },
          "metadata": {
            "tags": []
          }
        }
      ]
    },
    {
      "cell_type": "markdown",
      "metadata": {
        "id": "V3VKv_QnHQIq",
        "colab_type": "text"
      },
      "source": [
        "### Análise \n",
        "* Tendo em vista o gráfico acima podemos perceber certas discrepâncias no tempo das partidas 37, 40, 41 e 43\n",
        "\n",
        "* Mostrar estes dados em frames para tentar entender essa anomalia  "
      ]
    },
    {
      "cell_type": "code",
      "metadata": {
        "id": "DADfHuWPExiF",
        "colab_type": "code",
        "outputId": "ad56e72a-14ae-47ce-a41c-0461caa99845",
        "colab": {
          "base_uri": "https://localhost:8080/",
          "height": 235
        }
      },
      "source": [
        "df_matches[37:43]"
      ],
      "execution_count": 0,
      "outputs": [
        {
          "output_type": "execute_result",
          "data": {
            "text/html": [
              "<div>\n",
              "<style scoped>\n",
              "    .dataframe tbody tr th:only-of-type {\n",
              "        vertical-align: middle;\n",
              "    }\n",
              "\n",
              "    .dataframe tbody tr th {\n",
              "        vertical-align: top;\n",
              "    }\n",
              "\n",
              "    .dataframe thead th {\n",
              "        text-align: right;\n",
              "    }\n",
              "</style>\n",
              "<table border=\"1\" class=\"dataframe\">\n",
              "  <thead>\n",
              "    <tr style=\"text-align: right;\">\n",
              "      <th></th>\n",
              "      <th>game_id</th>\n",
              "      <th>board_id</th>\n",
              "      <th>player1</th>\n",
              "      <th>player2</th>\n",
              "      <th>winner</th>\n",
              "      <th>winner_color_id</th>\n",
              "    </tr>\n",
              "  </thead>\n",
              "  <tbody>\n",
              "    <tr>\n",
              "      <th>37</th>\n",
              "      <td>37</td>\n",
              "      <td>6</td>\n",
              "      <td>a</td>\n",
              "      <td>c</td>\n",
              "      <td>a</td>\n",
              "      <td>0.0</td>\n",
              "    </tr>\n",
              "    <tr>\n",
              "      <th>38</th>\n",
              "      <td>38</td>\n",
              "      <td>6</td>\n",
              "      <td>b</td>\n",
              "      <td>a</td>\n",
              "      <td>b</td>\n",
              "      <td>0.0</td>\n",
              "    </tr>\n",
              "    <tr>\n",
              "      <th>39</th>\n",
              "      <td>39</td>\n",
              "      <td>6</td>\n",
              "      <td>b</td>\n",
              "      <td>c</td>\n",
              "      <td>b</td>\n",
              "      <td>0.0</td>\n",
              "    </tr>\n",
              "    <tr>\n",
              "      <th>40</th>\n",
              "      <td>40</td>\n",
              "      <td>6</td>\n",
              "      <td>c</td>\n",
              "      <td>a</td>\n",
              "      <td>a</td>\n",
              "      <td>1.0</td>\n",
              "    </tr>\n",
              "    <tr>\n",
              "      <th>41</th>\n",
              "      <td>41</td>\n",
              "      <td>6</td>\n",
              "      <td>c</td>\n",
              "      <td>b</td>\n",
              "      <td>b</td>\n",
              "      <td>1.0</td>\n",
              "    </tr>\n",
              "    <tr>\n",
              "      <th>42</th>\n",
              "      <td>42</td>\n",
              "      <td>7</td>\n",
              "      <td>a</td>\n",
              "      <td>b</td>\n",
              "      <td>a</td>\n",
              "      <td>0.0</td>\n",
              "    </tr>\n",
              "  </tbody>\n",
              "</table>\n",
              "</div>"
            ],
            "text/plain": [
              "    game_id  board_id player1 player2 winner  winner_color_id\n",
              "37       37         6       a       c      a              0.0\n",
              "38       38         6       b       a      b              0.0\n",
              "39       39         6       b       c      b              0.0\n",
              "40       40         6       c       a      a              1.0\n",
              "41       41         6       c       b      b              1.0\n",
              "42       42         7       a       b      a              0.0"
            ]
          },
          "metadata": {
            "tags": []
          },
          "execution_count": 31
        }
      ]
    },
    {
      "cell_type": "markdown",
      "metadata": {
        "id": "TGeS90yeKqxZ",
        "colab_type": "text"
      },
      "source": [
        "* Analisando os jogadores e os vencedores, podemos perceber uma relação em comum, **o jogador \"c\"**, pois em todas as partidas que o mesmo joga, ele não ganha e ainda o tempo é muito alto. Com isso podemos concluir que o **jogador \"c\"**, demorou tanto para fazer um lance e perdeu por ultrapassar o tempo limite\n",
        "* Com isso me recordo que em uma aula o professor me disse que o jogador de *Leonardo Furone* entrava em Loop Infinito, o que explicaria a situação do **jogador \"c\"**. Logo o **jogador c** pertence a **Leonardo Furone**"
      ]
    },
    {
      "cell_type": "markdown",
      "metadata": {
        "id": "IZbnd18Ii4cF",
        "colab_type": "text"
      },
      "source": [
        "### Média de tempo por partida"
      ]
    },
    {
      "cell_type": "code",
      "metadata": {
        "id": "Auj48EYgwY31",
        "colab_type": "code",
        "outputId": "63419942-1dae-4ce2-b08d-8de2d7b06b5f",
        "colab": {
          "base_uri": "https://localhost:8080/",
          "height": 142
        }
      },
      "source": [
        "df_game_id_idx = dataframe_a.set_index(\"game_id\")\n",
        "\n",
        "def get_move_time(player):\n",
        "  selected_white = df_game_id_idx.loc[df_matches.game_id[(df_matches.player1 == player)]]\n",
        "  time_move_per_match_white = selected_white[selected_white.move_id % 2 == 0]\n",
        "  return time_move_per_match_white.groupby([\"game_id\"]).time.sum().mean()\n",
        "\n",
        "players = ['a', 'b', 'c']\n",
        "\n",
        "pd.DataFrame(list(map(get_move_time, players)), index=players, columns=[\"time_per_match\"])"
      ],
      "execution_count": 0,
      "outputs": [
        {
          "output_type": "execute_result",
          "data": {
            "text/html": [
              "<div>\n",
              "<style scoped>\n",
              "    .dataframe tbody tr th:only-of-type {\n",
              "        vertical-align: middle;\n",
              "    }\n",
              "\n",
              "    .dataframe tbody tr th {\n",
              "        vertical-align: top;\n",
              "    }\n",
              "\n",
              "    .dataframe thead th {\n",
              "        text-align: right;\n",
              "    }\n",
              "</style>\n",
              "<table border=\"1\" class=\"dataframe\">\n",
              "  <thead>\n",
              "    <tr style=\"text-align: right;\">\n",
              "      <th></th>\n",
              "      <th>time_per_match</th>\n",
              "    </tr>\n",
              "  </thead>\n",
              "  <tbody>\n",
              "    <tr>\n",
              "      <th>a</th>\n",
              "      <td>3.700233</td>\n",
              "    </tr>\n",
              "    <tr>\n",
              "      <th>b</th>\n",
              "      <td>0.294554</td>\n",
              "    </tr>\n",
              "    <tr>\n",
              "      <th>c</th>\n",
              "      <td>0.565029</td>\n",
              "    </tr>\n",
              "  </tbody>\n",
              "</table>\n",
              "</div>"
            ],
            "text/plain": [
              "   time_per_match\n",
              "a        3.700233\n",
              "b        0.294554\n",
              "c        0.565029"
            ]
          },
          "metadata": {
            "tags": []
          },
          "execution_count": 322
        }
      ]
    },
    {
      "cell_type": "markdown",
      "metadata": {
        "id": "ycScXpj7lwKe",
        "colab_type": "text"
      },
      "source": [
        "* Observando os dados acima, percebemos que a média de tempo por partida do **jogador \"a\"** se distancia dos demais, logo podemos inferir que isso se deve ao algoritimo por tras dele, uma vez que não existe interferencias externas nos testes \n",
        "\n",
        "* Com isso me lembro que implementei o algoritomo minimax, que por sua vez, utiliza do conceito de busca em profundidade, e mesmo com metodos para melhorar a eficiencia do mesmo, ele ainda apresenta um tempo de execução consideravel\n",
        "\n",
        "* Logo a possibilidade do **jogador \"a\"** pertencer a *Henrique Campiotti* se mostra muito alta\n",
        "\n",
        "* Levando a hipotese acima em consideração temos que o **jogador \"b\"** pertence a *Leonardo Ferrari*"
      ]
    }
  ]
}